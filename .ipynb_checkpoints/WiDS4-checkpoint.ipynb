{
 "cells": [
  {
   "cell_type": "code",
   "execution_count": null,
   "id": "dcf8b60b-4241-46f9-b372-2b1f13684fa9",
   "metadata": {},
   "outputs": [],
   "source": [
    "import numpy as np\n",
    "import pandas as pd\n",
    "import seaborn as sns\n",
    "\n",
    "import os\n",
    "import matplotlib.pyplot as plt\n",
    "\n",
    "import sklearn\n",
    "from sklearn.svm import SVC\n",
    "\n",
    "from sklearn.metrics import balanced_accuracy_score, roc_auc_score, accuracy_score\n",
    "from scipy.stats import zscore, pearsonr,uniform\n",
    "from sklearn.linear_model import Ridge\n",
    "from sklearn.model_selection import KFold, StratifiedKFold,RandomizedSearchCV\n",
    "\n",
    "from scipy.io import loadmat\n",
    "from scipy.stats import ttest_ind\n",
    "\n",
    "from sklearn.model_selection import train_test_split\n",
    "from sklearn.preprocessing import StandardScaler"
   ]
  },
  {
   "cell_type": "code",
   "execution_count": null,
   "id": "b2a2436a-b5cf-4318-a3ad-6121b23887cb",
   "metadata": {},
   "outputs": [],
   "source": [
    "train_cat=pd.read_excel(\"C:/Users/PC2019-1/OneDrive/Desktop/widsdatathon2025/TRAIN/TRAIN_CATEGORICAL_METADATA.xlsx\")\n",
    "train_cat.head()"
   ]
  },
  {
   "cell_type": "code",
   "execution_count": null,
   "id": "a3ec596d-fdb4-44e5-bfc6-250780e97daa",
   "metadata": {},
   "outputs": [],
   "source": [
    "train_cat.columns"
   ]
  },
  {
   "cell_type": "code",
   "execution_count": null,
   "id": "14f2e23c-72cc-4afd-8562-06fcdd712044",
   "metadata": {},
   "outputs": [],
   "source": [
    "train_FCM=pd.read_csv(\"C:/Users/PC2019-1/OneDrive/Desktop/widsdatathon2025/TRAIN//TRAIN_FUNCTIONAL_CONNECTOME_MATRICES.csv\")\n",
    "train_FCM.head()"
   ]
  },
  {
   "cell_type": "code",
   "execution_count": null,
   "id": "ba0af693-839d-4e0d-9793-0e970736b18d",
   "metadata": {},
   "outputs": [],
   "source": [
    "train_FCM.columns"
   ]
  },
  {
   "cell_type": "code",
   "execution_count": null,
   "id": "d6fa1015-e022-4af1-b9f3-e30e41885f30",
   "metadata": {},
   "outputs": [],
   "source": [
    "train_Quant=pd.read_excel(\"C:/Users/PC2019-1/OneDrive/Desktop/widsdatathon2025/TRAIN/TRAIN_QUANTITATIVE_METADATA.xlsx\")\n",
    "train_Quant.head()"
   ]
  },
  {
   "cell_type": "code",
   "execution_count": null,
   "id": "694698b6-6585-431d-bd57-9ae4c9684a89",
   "metadata": {},
   "outputs": [],
   "source": [
    "train_Quant.columns"
   ]
  },
  {
   "cell_type": "code",
   "execution_count": null,
   "id": "67c939a8-c949-4aaf-ba9b-6424d4e922ce",
   "metadata": {},
   "outputs": [],
   "source": [
    "train_Solutions=pd.read_excel(\"C:/Users/PC2019-1/OneDrive/Desktop/widsdatathon2025/TRAIN/TRAINING_SOLUTIONS.xlsx\")\n",
    "train_Solutions.head()"
   ]
  },
  {
   "cell_type": "code",
   "execution_count": null,
   "id": "8a8ef380-e614-4463-b800-6a28282b498f",
   "metadata": {},
   "outputs": [],
   "source": [
    "train_Solutions.columns"
   ]
  },
  {
   "cell_type": "code",
   "execution_count": null,
   "id": "ab022d0c-d66d-4cbd-bd16-8ddfa13baf8e",
   "metadata": {},
   "outputs": [],
   "source": [
    "train_cat.info()"
   ]
  },
  {
   "cell_type": "code",
   "execution_count": null,
   "id": "2a9f60dd-eac8-4c51-8e81-d919fb686996",
   "metadata": {},
   "outputs": [],
   "source": [
    "train_cat.describe()"
   ]
  },
  {
   "cell_type": "code",
   "execution_count": null,
   "id": "f9970127-d1ed-40f1-9f03-24f43ad3d482",
   "metadata": {},
   "outputs": [],
   "source": [
    "train_cat['Barratt_Barratt_P2_Occ'].value_counts()"
   ]
  },
  {
   "cell_type": "code",
   "execution_count": null,
   "id": "95d42ba2-bef7-4d5e-83ce-3c5645f8e820",
   "metadata": {},
   "outputs": [],
   "source": [
    "sns.countplot(x='Barratt_Barratt_P2_Occ', data=train_cat[['Barratt_Barratt_P2_Occ']])\n",
    "plt.title(f\"Distribution of Barratt_Barratt_P2_Occ\")\n",
    "plt.xticks(rotation=45)\n",
    "plt.show()"
   ]
  },
  {
   "cell_type": "code",
   "execution_count": null,
   "id": "a56a2038-6d6e-4b3e-a44c-5376090742dc",
   "metadata": {},
   "outputs": [],
   "source": [
    "sns.countplot(x='Barratt_Barratt_P1_Occ', data=train_cat[['Barratt_Barratt_P1_Occ']])\n",
    "plt.title(f\"Distribution of Barratt_Barratt_P1_Occ\")\n",
    "plt.xticks(rotation=45)\n",
    "plt.show()"
   ]
  },
  {
   "cell_type": "code",
   "execution_count": null,
   "id": "16a3e401-0f28-4c11-9689-85f2c23da325",
   "metadata": {},
   "outputs": [],
   "source": [
    "data = train_cat[['Barratt_Barratt_P1_Occ', 'Barratt_Barratt_P2_Occ']]\n",
    "\n",
    "# Pretvaranje u dug oblik\n",
    "melted_data = pd.melt(data, var_name='Category', value_name='Answers')\n",
    "\n",
    "# Grafikon\n",
    "plt.figure(figsize=(8, 4))\n",
    "sns.countplot(x='Answers', hue='Category', data=melted_data)\n",
    "plt.title(\"Distribution of P1_Occ and P2_Occ\")\n",
    "plt.xticks(rotation=45)\n",
    "plt.legend(title='Columns')\n",
    "plt.show()"
   ]
  },
  {
   "cell_type": "code",
   "execution_count": null,
   "id": "fe853c07-d0e5-4451-9ff7-3deb12ec3485",
   "metadata": {},
   "outputs": [],
   "source": [
    "stacked_data = data.apply(pd.Series.value_counts).fillna(0)\n",
    "\n",
    "# Grafikon\n",
    "stacked_data.plot(kind='bar', stacked=True, figsize=(8, 4), colormap='viridis')\n",
    "plt.title(\"Stacked Distribution of P1_Occ and P2_Occ\")\n",
    "plt.xlabel(\"Answers\")\n",
    "plt.ylabel(\"Count\")\n",
    "plt.xticks(rotation=45)\n",
    "plt.legend(title='Columns')\n",
    "plt.show()"
   ]
  },
  {
   "cell_type": "code",
   "execution_count": null,
   "id": "93cd1d6b-d488-43f9-92ce-7a9415073c4d",
   "metadata": {},
   "outputs": [],
   "source": [
    "g = sns.FacetGrid(melted_data, col='Category', sharey=True, height=5, aspect=1.5)\n",
    "g.map(sns.countplot, 'Answers', order=data.stack().value_counts().index)\n",
    "g.set_titles(\"{col_name}\")\n",
    "g.set_xticklabels(rotation=45)\n",
    "plt.show()"
   ]
  },
  {
   "cell_type": "code",
   "execution_count": null,
   "id": "4fc1ab85-d986-4b0b-93fe-818e4e5bcb77",
   "metadata": {},
   "outputs": [],
   "source": [
    "data = train_cat[['Barratt_Barratt_P1_Edu', 'Barratt_Barratt_P2_Edu']]\n",
    "\n",
    "# Pretvaranje u dug oblik\n",
    "melted_data = pd.melt(data, var_name='Category', value_name='Answers')\n",
    "\n",
    "# Grafikon\n",
    "plt.figure(figsize=(8, 4))\n",
    "sns.countplot(x='Answers', hue='Category', data=melted_data)\n",
    "plt.title(\"Distribution of P1_Edu and P2_Edu\")\n",
    "plt.xticks(rotation=45)\n",
    "plt.legend(title='Columns')\n",
    "plt.show()"
   ]
  },
  {
   "cell_type": "code",
   "execution_count": null,
   "id": "0969f592-59e3-4d96-842c-e321c6aae7b4",
   "metadata": {},
   "outputs": [],
   "source": [
    "train_Quant['MRI_Track_Age_at_Scan'].hist(figsize=(10,6), bins=20)\n",
    "plt.suptitle(\"MRI_Track_Age_at_Scan Distributions\")\n",
    "plt.xlabel('MRI_Track_Age_at_Scan')\n",
    "plt.ylabel('Frequency Count')\n",
    "plt.show()"
   ]
  },
  {
   "cell_type": "code",
   "execution_count": null,
   "id": "e5ffa866-06d6-484f-9d8c-45328e15b062",
   "metadata": {},
   "outputs": [],
   "source": [
    "train_Solutions['ADHD_Outcome'].value_counts()"
   ]
  },
  {
   "cell_type": "code",
   "execution_count": null,
   "id": "10770a25-c51b-410b-8fab-2f2bca7e6ad3",
   "metadata": {},
   "outputs": [],
   "source": [
    "ax=train_Solutions['ADHD_Outcome'].value_counts().plot(kind='bar', color='blue')\n",
    "plt.title('ADHD_Outcome')\n",
    "plt.xlabel('Outcome (1 = YES, 0 = NO )')\n",
    "plt.ylabel('Count')\n",
    "plt.xticks(rotation=0)\n",
    "# Dodavanje vrednosti iznad svakog bara\n",
    "for p in ax.patches:\n",
    "    ax.annotate(f'{p.get_height()}', (p.get_x() + p.get_width() / 2., p.get_height()),\n",
    "                ha='center', va='center', fontsize=10, color='black', xytext=(0, 5),\n",
    "                textcoords='offset points')\n",
    "plt.show()"
   ]
  },
  {
   "cell_type": "code",
   "execution_count": null,
   "id": "d56e4676-b6fc-4021-b394-bcd66d6553e6",
   "metadata": {},
   "outputs": [],
   "source": [
    "train_Solutions['Sex_F'].value_counts()"
   ]
  },
  {
   "cell_type": "code",
   "execution_count": null,
   "id": "fc512a03-73e4-4293-8cb2-b493002d4ccd",
   "metadata": {},
   "outputs": [],
   "source": [
    "ax=train_Solutions['Sex_F'].value_counts().plot(kind='bar', color=['red', 'blue'])\n",
    "plt.title('Sex_F')\n",
    "plt.xlabel('Outcome (1 = Female, 0 = Male )')\n",
    "plt.ylabel('Count')\n",
    "plt.xticks(rotation=0)\n",
    "# Dodavanje vrednosti iznad svakog bara\n",
    "for p in ax.patches:\n",
    "    ax.annotate(f'{p.get_height()}', (p.get_x() + p.get_width() / 2., p.get_height()),\n",
    "                ha='center', va='center', fontsize=10, color='black', xytext=(0, 5),\n",
    "                textcoords='offset points')\n",
    "plt.show()"
   ]
  },
  {
   "cell_type": "code",
   "execution_count": null,
   "id": "3356ac1c-03b5-4c7f-8d25-ae5ffa3bd628",
   "metadata": {},
   "outputs": [],
   "source": [
    "train_Quant.columns"
   ]
  },
  {
   "cell_type": "code",
   "execution_count": null,
   "id": "485d2285-387f-453e-84b0-3ea4d00ee504",
   "metadata": {},
   "outputs": [],
   "source": [
    "plt.figure(figsize=(8, 6))\n",
    "sns.histplot(train_Quant['SDQ_SDQ_Emotional_Problems'], kde=True, color='skyblue')\n",
    "plt.title('Distribution of SDQ_SDQ_Emotional_Problems')\n",
    "plt.xlabel('SDQ_SDQ_Emotional_Problems')\n",
    "plt.ylabel('Frequency')\n",
    "plt.show()"
   ]
  },
  {
   "cell_type": "code",
   "execution_count": null,
   "id": "4d5e3d4b-443a-4653-b21c-2e7c4a73616c",
   "metadata": {},
   "outputs": [],
   "source": [
    "# Using Cohens coefficient we can measure correlational strength between 2 columns\n",
    "# We will be using this method to see how much of an impact each column of Quantitaive Metadata has on Trainting Solutions\n",
    "def validate_correlation_strength(columns_to_test, column_to_examine = \"\"):\n",
    "    for column in columns:\n",
    "        # ----------------- PART 1 -----------------\n",
    "        # Box plot\n",
    "        plt.figure(figsize=(8, 6))\n",
    "        sns.boxplot(x=column_to_examine, y= column, data=train_Quant_copy)\n",
    "        plt.title(f'{column} vs {column_to_examine}')\n",
    "        plt.ylabel(column_to_examine)\n",
    "        plt.ylabel(column)\n",
    "        plt.show()\n",
    "    \n",
    "        # ----------------- PART 2 -----------------\n",
    "        # Splitting data into 2 groups\n",
    "        group_0 = train_Quant_copy[train_Quant_copy[column_to_examine] == 0][column] # group with no ADHD\n",
    "        group_1 = train_Quant_copy[train_Quant_copy[column_to_examine] == 1][column] # group with ADHD\n",
    "        \n",
    "        # T-test - Students test\n",
    "        t_stat, p_value = ttest_ind(group_0, group_1)\n",
    "        print(f\"T-statistic: {t_stat}, P-value: {p_value}\")\n",
    "        \n",
    "        # Testira hipotezu:\n",
    "        # 𝐻0: Srednje vrednosti su iste između ADHD i non-ADHD grupa.\n",
    "        # 𝐻1: Postoji razlika u srednjim vrednostima.\n",
    "        \n",
    "        # Interpretacija\n",
    "        if p_value < 0.05:\n",
    "            print(\"Postoji značajna razlika u srednjim vrednostima između grupa.\")\n",
    "        else:\n",
    "            print(\"Nema značajne razlike u srednjim vrednostima između grupa.\")\n",
    "        print(\"-\"*60)\n",
    "    \n",
    "        # ----------------- PART 3 -----------------    \n",
    "        # Ako otkrijemo značajne razlike između grupa, možemo izračunati efekat veličine kako bismo kvantifikovali koliko su razlike velike:\n",
    "        # Cohen's d: Mera efekta za T-test.\n",
    "        \n",
    "        # d < 0.2 – Vrlo mala razlika (zanemarljiv efekat)\n",
    "        # 0.2 ≤ d < 0.5 – Mala razlika (slab efekat)\n",
    "        # 0.5 ≤ d < 0.8 – Srednja razlika (umeren efekat)\n",
    "        # d ≥ 0.8 – Velika razlika (jak efekat)\n",
    "        \n",
    "        mean_diff = np.mean(group_1) - np.mean(group_0)\n",
    "        pooled_std = np.sqrt((np.std(group_1)**2 + np.std(group_0)**2) / 2)\n",
    "        cohen_d = mean_diff / pooled_std\n",
    "        print(f\"Cohen's d: {cohen_d}\")\n",
    "        print(\"_\"*120)\n",
    "    \n",
    "        cohens_value_dict[column] = cohen_d\n",
    "    return cohens_value_dict"
   ]
  },
  {
   "cell_type": "code",
   "execution_count": null,
   "id": "86cf0558-ca33-4aaf-b74b-ff956bf72e0d",
   "metadata": {},
   "outputs": [],
   "source": [
    "# TESTING CORRELATION STRENGTHS FOR:\n",
    "    # DOCUMENT: TRAIN_SOLUTIONS\n",
    "    # COLUMN NAME: 'ADHD Outcome'\n",
    "\n",
    "# Making a shallow copy.\n",
    "train_Quant_copy=train_Quant.copy()\n",
    "# Assigning a new column 'ADHD_Outcome' to the train_Quant_copy from train_Solutions\n",
    "train_Quant_copy['ADHD_Outcome']=train_Solutions['ADHD_Outcome']\n",
    "\n",
    "# Assigning all the columns to the list of columns names\n",
    "# Excluding the participant_id column\n",
    "columns = train_Quant.columns[1:]\n",
    "\n",
    "# We will store Cohens coefficient values here for every column of train_Quant_copy\n",
    "cohens_value_dict = {}\n",
    "cohens_value_dict = validate_correlation_strength(columns, 'ADHD_Outcome')\n",
    "# Printing cohens values\n",
    "cohens_value_dict"
   ]
  },
  {
   "cell_type": "code",
   "execution_count": null,
   "id": "fab8b744-5cf7-4e47-a416-434dabf48871",
   "metadata": {},
   "outputs": [],
   "source": [
    "# TESTING CORRELATION STRENGTHS FOR:\n",
    "    # DOCUMENT: TRAIN_SOLUTIONS\n",
    "    # COLUMN NAME: 'ADHD Outcome'\n",
    "\n",
    "# Making a shallow copy.\n",
    "train_Quant_copy=train_Quant.copy()\n",
    "# Assigning a new column 'ADHD_Outcome' to the train_Quant_copy from train_Solutions\n",
    "train_Quant_copy['Sex_F']=train_Solutions['Sex_F']\n",
    "\n",
    "# Assigning all the columns to the list of columns names\n",
    "# Excluding the participant_id column\n",
    "columns = train_Quant.columns[1:]\n",
    "\n",
    "# We will store Cohens coefficient values here for every column of train_Quant_copy\n",
    "cohens_value_dict = {}\n",
    "cohens_value_dict = validate_correlation_strength(columns, 'Sex_F')\n",
    "# Printing cohens values\n",
    "cohens_value_dict"
   ]
  },
  {
   "cell_type": "code",
   "execution_count": null,
   "id": "5cdb3e67-9ad1-4315-82ba-a35c1b7cba0d",
   "metadata": {},
   "outputs": [],
   "source": [
    "# ANALYSING CATEGORICAL DATA WITH ADHD_OUTCOME AND SEX_F\n",
    "\n",
    "train_cat_copy = train_cat.copy()\n",
    "train_cat_copy['ADHD_Outcome'] = train_Solutions['ADHD_Outcome']\n",
    "\n",
    "# Assigning all the columns to the list of columns names\n",
    "for column in columns:\n",
    "    sns.countplot(data = train_cat, x = column, hue = train_Solutions['ADHD_Outcome'])\n",
    "    plt.title(f'ADHD Prevalence by {column}')\n",
    "    plt.show()\n",
    "    print(train_cat[column].value_counts())\n",
    "    adhd_percentages = train_cat_copy.groupby(column)['ADHD_Outcome'].mean()\n",
    "    print('-'*60)\n",
    "    print(adhd_percentages)\n",
    "    print('_'*120)"
   ]
  },
  {
   "cell_type": "code",
   "execution_count": null,
   "id": "5ffe02ed-d4ae-4ec3-a0a7-5d89455fb582",
   "metadata": {},
   "outputs": [],
   "source": [
    "# ANALYSING CATEGORICAL DATA WITH ADHD_OUTCOME AND SEX_F\n",
    "\n",
    "train_cat_copy = train_cat.copy()\n",
    "train_cat_copy['Sex_F'] = train_Solutions['Sex_F']\n",
    "\n",
    "# Assigning all the columns to the list of columns names\n",
    "for column in columns:\n",
    "    sns.countplot(data = train_cat, x = column, hue = train_Solutions['Sex_F'])\n",
    "    plt.title(f'Sex_F Prevalence by {column}')\n",
    "    plt.show()\n",
    "    print(train_cat[column].value_counts())\n",
    "    adhd_percentages = train_cat_copy.groupby(column)['Sex_F'].mean()\n",
    "    print('-'*60)\n",
    "    print(adhd_percentages)\n",
    "    print('_'*120)"
   ]
  },
  {
   "cell_type": "code",
   "execution_count": null,
   "id": "c1daf3b7-59c9-4e27-a2c8-cfc33700a499",
   "metadata": {},
   "outputs": [],
   "source": [
    "for col in train_cat.select_dtypes(include='int').columns:\n",
    "    train_cat[col]=train_cat[col].astype('category')"
   ]
  },
  {
   "cell_type": "code",
   "execution_count": null,
   "id": "2d31e079-e41c-4ddf-af50-5d54f0f33eec",
   "metadata": {},
   "outputs": [],
   "source": [
    "    # Creating a list of all of the columns except the first participant_id\n",
    "    columns_to_encode=train_cat.columns[1:].tolist()\n",
    "    # Print the columns to encode\n",
    "    print(\"Columns to encode;\", columns_to_encode)"
   ]
  },
  {
   "cell_type": "code",
   "execution_count": null,
   "id": "896d8a7f-2024-4587-80e7-72d44c98bdb6",
   "metadata": {},
   "outputs": [],
   "source": [
    "data_encoded=pd.get_dummies(train_cat[columns_to_encode],drop_first=True)\n",
    "data_encoded=data_encoded.map(lambda x:1 if x is True else (0 if x is False else x))"
   ]
  },
  {
   "cell_type": "code",
   "execution_count": null,
   "id": "e68285de-49e1-4cd3-be76-8947c89055b0",
   "metadata": {},
   "outputs": [],
   "source": [
    "#Combine encoded columns with the rest of the DataFrame\n",
    "cat_train_final=pd.concat([train_cat.drop(columns=columns_to_encode), data_encoded], axis=1)\n",
    "cat_train_final.head()"
   ]
  },
  {
   "cell_type": "code",
   "execution_count": null,
   "id": "ff0e6d84-b41c-48cd-b7cc-452846a98a52",
   "metadata": {},
   "outputs": [],
   "source": []
  }
 ],
 "metadata": {
  "kernelspec": {
   "display_name": "Python 3 (ipykernel)",
   "language": "python",
   "name": "python3"
  },
  "language_info": {
   "codemirror_mode": {
    "name": "ipython",
    "version": 3
   },
   "file_extension": ".py",
   "mimetype": "text/x-python",
   "name": "python",
   "nbconvert_exporter": "python",
   "pygments_lexer": "ipython3",
   "version": "3.12.8"
  }
 },
 "nbformat": 4,
 "nbformat_minor": 5
}
